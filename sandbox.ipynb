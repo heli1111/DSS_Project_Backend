{
  "nbformat": 4,
  "nbformat_minor": 0,
  "metadata": {
    "colab": {
      "name": "sandbox.ipynb",
      "provenance": [],
      "mount_file_id": "17ughMu7uCIuMm26YZzU76zeqR-8PxVWw",
      "authorship_tag": "ABX9TyO3t7Q16vkN6sqYuXl7toGj",
      "include_colab_link": true
    },
    "kernelspec": {
      "name": "python3",
      "display_name": "Python 3"
    },
    "language_info": {
      "name": "python"
    }
  },
  "cells": [
    {
      "cell_type": "markdown",
      "metadata": {
        "id": "view-in-github",
        "colab_type": "text"
      },
      "source": [
        "<a href=\"https://colab.research.google.com/github/hepuliu/DSS_Project_Backend/blob/main/sandbox.ipynb\" target=\"_parent\"><img src=\"https://colab.research.google.com/assets/colab-badge.svg\" alt=\"Open In Colab\"/></a>"
      ]
    },
    {
      "cell_type": "markdown",
      "source": [
        "## Master Thesis Simulation Sandbox\n",
        "Flood Prevention Dam Sizing with Machine Learining Approaches - Hepu Liu"
      ],
      "metadata": {
        "id": "SK9SqJkgYflY"
      }
    },
    {
      "cell_type": "markdown",
      "source": [
        "### Overall Project Simulation Steps\n",
        "1. Process precipitation data from Waldangelbach Station\n",
        "\n",
        "2. Process discharge data from Baiertal Station\n",
        "\n",
        "3. Build Prediction Model (Model A)\n",
        "\n",
        "4. Process precipitation data from Stifterhof Station\n",
        "\n",
        "5. Process precipitation data from Waibstadt Station\n",
        "\n",
        "6. Process precipitation data from Stetten Station\n",
        "\n",
        "7. Fit data to Model A to predict discharge\n",
        "\n",
        "### Variable Naming Conventions\n",
        "\n",
        "- Weather Stations Naming: ('p' for precipitation, 'd' for discharge, 'a' to 'd' for different stations, 'r' for result)\n",
        "\n",
        "  - pa: Waldangelbach Station\n",
        "  - da: Baiertal Station\n",
        "  - pb: Stifterhof Station\n",
        "  - pb: Waibstadt Station\n",
        "  - pc: Stetten Station\n",
        "  - pr: combined/resulting precipitation\n",
        "  - dr: predicted/resulting discharge\n",
        "\n",
        "- Variable Naming Coventions: \n",
        "  - df: data frame\n",
        "  - trs: training set\n",
        "  - tes: testing set\n",
        "\n"
      ],
      "metadata": {
        "id": "qglbOjh3bvqI"
      }
    },
    {
      "cell_type": "markdown",
      "source": [
        "## Importing Libraries"
      ],
      "metadata": {
        "id": "KIiBvKSSYZGo"
      }
    },
    {
      "cell_type": "code",
      "source": [
        "# importing libraries\n",
        "import csv\n",
        "import seaborn as sns\n",
        "import numpy as np\n",
        "import matplotlib.pyplot as plt\n",
        "import pandas as pd\n",
        "from fbprophet import Prophet\n",
        "from google.colab import drive\n",
        "drive.mount"
      ],
      "metadata": {
        "colab": {
          "base_uri": "https://localhost:8080/"
        },
        "id": "qZOjIExEcfol",
        "outputId": "292a6d0c-2887-4b4a-c1ce-d5037d50ee73"
      },
      "execution_count": 266,
      "outputs": [
        {
          "output_type": "execute_result",
          "data": {
            "text/plain": [
              "<function google.colab.drive.mount>"
            ]
          },
          "metadata": {},
          "execution_count": 266
        }
      ]
    },
    {
      "cell_type": "markdown",
      "source": [
        "## Importing Datasets"
      ],
      "metadata": {
        "id": "aaJEQP7LYbTH"
      }
    },
    {
      "cell_type": "code",
      "source": [
        ""
      ],
      "metadata": {
        "id": "wNj3uLgAi9-2"
      },
      "execution_count": 266,
      "outputs": []
    },
    {
      "cell_type": "code",
      "source": [
        "# import percipitation data from Waldangelbach Station\n",
        "pa_df = pd.read_csv('/content/drive/MyDrive/thesis/dataset/Wiesloch_waldangelbach_hourly_20070101-20210501.csv')\n",
        "da_df = pd.read_csv('/content/drive/MyDrive/thesis/dataset/Weather_station_Baiertal.csv')"
      ],
      "metadata": {
        "id": "KF7fZyvgXIFI",
        "colab": {
          "base_uri": "https://localhost:8080/"
        },
        "outputId": "e5ed4058-f7c9-4f52-bbe8-d131e01751f7"
      },
      "execution_count": 267,
      "outputs": [
        {
          "output_type": "stream",
          "name": "stderr",
          "text": [
            "/usr/local/lib/python3.7/dist-packages/IPython/core/interactiveshell.py:2882: DtypeWarning: Columns (0) have mixed types.Specify dtype option on import or set low_memory=False.\n",
            "  exec(code_obj, self.user_global_ns, self.user_ns)\n"
          ]
        }
      ]
    },
    {
      "cell_type": "markdown",
      "source": [
        "## Data Processing"
      ],
      "metadata": {
        "id": "1fFHbl2kREy3"
      }
    },
    {
      "cell_type": "code",
      "source": [
        "# # Preprocessing Precipitation A DataFrame\n",
        "\n",
        "# pa_df = pa_df.iloc[13:].reset_index(drop=True)\n",
        "# pa_df.columns = pa_df.iloc[0]\n",
        "# pa_df = pa_df.iloc[3:].reset_index(drop=True)\n",
        "# pa_df = pa_df.iloc[:, 4:7] # precipitation unit [m3/s]\n",
        "# pa_df['Uhrzeit'] = pa_df['Uhrzeit'].str.replace(' v', '')\n",
        "# # pa_df['Uhrzeit'] = pa_df['Uhrzeit'].astype('string').str.replace(' v', '')\n",
        "# pa_df['t'] = pd.to_datetime(pa_df['Datum']+' '+pa_df['Uhrzeit'])\n",
        "# pa_df = pa_df.iloc[:,2:]\n",
        "# pa_df.columns = ['p', 't']\n",
        "# pa_df = pa_df[['t','p']]\n",
        "# pa_df.to_csv('/content/drive/MyDrive/thesis/dataset/cleaned_df/pa_df.csv')"
      ],
      "metadata": {
        "id": "qMUtOcjlnBGL"
      },
      "execution_count": 268,
      "outputs": []
    },
    {
      "cell_type": "markdown",
      "source": [
        "# Archive"
      ],
      "metadata": {
        "id": "6w2EwQydjZZm"
      }
    },
    {
      "cell_type": "code",
      "source": [
        "# # import training set\n",
        "# from google.colab import drive\n",
        "# drive.mount\n",
        "# dataset_train = pd.read_csv('/content/drive/MyDrive/Colab Notebooks/Thesis/Dataset/Weather_station_Baiertal.csv')\n",
        "# training_set = dataset_train.iloc[:, 1:2].values"
      ],
      "metadata": {
        "id": "eRxNVpd0S7OU"
      },
      "execution_count": 269,
      "outputs": []
    }
  ]
}